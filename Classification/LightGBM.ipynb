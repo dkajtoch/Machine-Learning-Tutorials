{
 "cells": [
  {
   "cell_type": "markdown",
   "metadata": {},
   "source": [
    "# LightGBM\n",
    "\n",
    "(C) 2018 Dariusz Kajtoch\n",
    "\n",
    "-----\n",
    "\n",
    "Demonstration of the [LightGBM](https://github.com/Microsoft/LightGBM) algorithm on the [Adult Data Set](https://archive.ics.uci.edu/ml/datasets/Adult)."
   ]
  },
  {
   "cell_type": "code",
   "execution_count": 1,
   "metadata": {},
   "outputs": [],
   "source": [
    "from __future__ import print_function\n",
    "import pandas as pd\n",
    "import matplotlib.pyplot as plt\n",
    "import seaborn as sns\n",
    "import numpy as np\n",
    "%matplotlib inline\n",
    "\n",
    "sns.set_context('notebook')\n",
    "plt.rcParams['text.usetex'] = False"
   ]
  },
  {
   "cell_type": "markdown",
   "metadata": {},
   "source": [
    "# Import Data"
   ]
  },
  {
   "cell_type": "code",
   "execution_count": 2,
   "metadata": {},
   "outputs": [
    {
     "name": "stdout",
     "output_type": "stream",
     "text": [
      "  Sex  Length  Diameter  Height  Whole_weight  Shicked_weight  Viscera_weight  \\\n",
      "0   M   0.455     0.365   0.095        0.5140          0.2245          0.1010   \n",
      "1   M   0.350     0.265   0.090        0.2255          0.0995          0.0485   \n",
      "2   F   0.530     0.420   0.135        0.6770          0.2565          0.1415   \n",
      "3   M   0.440     0.365   0.125        0.5160          0.2155          0.1140   \n",
      "4   I   0.330     0.255   0.080        0.2050          0.0895          0.0395   \n",
      "\n",
      "   Shell_weight  Predict  \n",
      "0         0.150        1  \n",
      "1         0.070        0  \n",
      "2         0.210        0  \n",
      "3         0.155        0  \n",
      "4         0.055        0  \n",
      "Sex               0\n",
      "Length            0\n",
      "Diameter          0\n",
      "Height            0\n",
      "Whole_weight      0\n",
      "Shicked_weight    0\n",
      "Viscera_weight    0\n",
      "Shell_weight      0\n",
      "Predict           0\n",
      "dtype: int64\n"
     ]
    }
   ],
   "source": [
    "data = pd.read_csv('./data/abalone.data', \n",
    "    names=['Sex','Length','Diameter','Height','Whole_weight',\n",
    "        'Shicked_weight','Viscera_weight','Shell_weight','Rings'\n",
    "    ]\n",
    ")\n",
    "# create classification data: \n",
    "# 1 - Ring number more than 10\n",
    "# 0 - Ring number less than or equal 10\n",
    "data['Predict'] = data['Rings'].apply(lambda x: 1 if x>10 else 0)\n",
    "data.drop('Rings', axis=1, inplace=True)\n",
    "\n",
    "print(data.head())\n",
    "print(data.isna().sum())"
   ]
  },
  {
   "cell_type": "code",
   "execution_count": 3,
   "metadata": {},
   "outputs": [
    {
     "name": "stderr",
     "output_type": "stream",
     "text": [
      "/opt/intel/intelpython3/lib/python3.6/site-packages/ipykernel_launcher.py:15: SettingWithCopyWarning: \n",
      "A value is trying to be set on a copy of a slice from a DataFrame.\n",
      "Try using .loc[row_indexer,col_indexer] = value instead\n",
      "\n",
      "See the caveats in the documentation: http://pandas.pydata.org/pandas-docs/stable/indexing.html#indexing-view-versus-copy\n",
      "  from ipykernel import kernelapp as app\n"
     ]
    }
   ],
   "source": [
    "X = data[[\n",
    "    'Sex',\n",
    "    'Length',\n",
    "    'Diameter',\n",
    "    'Height',\n",
    "    'Whole_weight',\n",
    "    'Shicked_weight',\n",
    "    'Viscera_weight',\n",
    "    'Shell_weight'\n",
    "]]\n",
    "\n",
    "y = data['Predict']\n",
    "\n",
    "# code categorical features as integer numbers\n",
    "X['Sex'] = X['Sex'].map({'M':0, 'F':1, 'I':3})"
   ]
  },
  {
   "cell_type": "markdown",
   "metadata": {},
   "source": [
    "# Create LightGBM classifier"
   ]
  },
  {
   "cell_type": "code",
   "execution_count": 24,
   "metadata": {},
   "outputs": [
    {
     "name": "stderr",
     "output_type": "stream",
     "text": [
      "/opt/intel/intelpython3/lib/python3.6/site-packages/sklearn/model_selection/_split.py:2026: FutureWarning: From version 0.21, test_size will always complement train_size unless both are specified.\n",
      "  FutureWarning)\n",
      "/home/dkajtoch/.local/lib/python3.6/site-packages/lightgbm/basic.py:1042: UserWarning: categorical_feature in Dataset is overridden. New categorical_feature is ['Sex']\n",
      "  warnings.warn('categorical_feature in Dataset is overridden. New categorical_feature is {}'.format(sorted(list(categorical_feature))))\n",
      "/home/dkajtoch/.local/lib/python3.6/site-packages/lightgbm/basic.py:1042: UserWarning: categorical_feature in Dataset is overridden. New categorical_feature is ['Sex']\n",
      "  warnings.warn('categorical_feature in Dataset is overridden. New categorical_feature is {}'.format(sorted(list(categorical_feature))))\n"
     ]
    },
    {
     "name": "stdout",
     "output_type": "stream",
     "text": [
      "[1]\ttrain's binary_logloss: 0.616155\ttrain's auc: 0.816926\ttest's binary_logloss: 0.620157\ttest's auc: 0.785492\n",
      "[2]\ttrain's binary_logloss: 0.593662\ttrain's auc: 0.841878\ttest's binary_logloss: 0.600374\ttest's auc: 0.80081\n",
      "[3]\ttrain's binary_logloss: 0.573707\ttrain's auc: 0.849192\ttest's binary_logloss: 0.583289\ttest's auc: 0.813762\n",
      "[4]\ttrain's binary_logloss: 0.557159\ttrain's auc: 0.850019\ttest's binary_logloss: 0.569395\ttest's auc: 0.812407\n",
      "[5]\ttrain's binary_logloss: 0.541332\ttrain's auc: 0.862962\ttest's binary_logloss: 0.556392\ttest's auc: 0.820678\n",
      "[6]\ttrain's binary_logloss: 0.529543\ttrain's auc: 0.863131\ttest's binary_logloss: 0.547494\ttest's auc: 0.820869\n",
      "[7]\ttrain's binary_logloss: 0.518008\ttrain's auc: 0.86874\ttest's binary_logloss: 0.537908\ttest's auc: 0.825492\n",
      "[8]\ttrain's binary_logloss: 0.508006\ttrain's auc: 0.86899\ttest's binary_logloss: 0.530346\ttest's auc: 0.826487\n",
      "[9]\ttrain's binary_logloss: 0.499687\ttrain's auc: 0.869394\ttest's binary_logloss: 0.52452\ttest's auc: 0.826732\n",
      "[10]\ttrain's binary_logloss: 0.490669\ttrain's auc: 0.871051\ttest's binary_logloss: 0.518127\ttest's auc: 0.826959\n",
      "[11]\ttrain's binary_logloss: 0.484244\ttrain's auc: 0.870062\ttest's binary_logloss: 0.513835\ttest's auc: 0.826764\n",
      "[12]\ttrain's binary_logloss: 0.476982\ttrain's auc: 0.872349\ttest's binary_logloss: 0.508346\ttest's auc: 0.828588\n",
      "[13]\ttrain's binary_logloss: 0.471759\ttrain's auc: 0.875198\ttest's binary_logloss: 0.504722\ttest's auc: 0.829686\n",
      "[14]\ttrain's binary_logloss: 0.466439\ttrain's auc: 0.874539\ttest's binary_logloss: 0.500679\ttest's auc: 0.829924\n",
      "[15]\ttrain's binary_logloss: 0.460579\ttrain's auc: 0.877641\ttest's binary_logloss: 0.497472\ttest's auc: 0.829719\n",
      "[16]\ttrain's binary_logloss: 0.456464\ttrain's auc: 0.879269\ttest's binary_logloss: 0.494968\ttest's auc: 0.830527\n",
      "[17]\ttrain's binary_logloss: 0.453006\ttrain's auc: 0.881049\ttest's binary_logloss: 0.492232\ttest's auc: 0.831561\n",
      "[18]\ttrain's binary_logloss: 0.449178\ttrain's auc: 0.880543\ttest's binary_logloss: 0.489926\ttest's auc: 0.832273\n",
      "[19]\ttrain's binary_logloss: 0.446114\ttrain's auc: 0.880518\ttest's binary_logloss: 0.487813\ttest's auc: 0.833312\n",
      "[20]\ttrain's binary_logloss: 0.442381\ttrain's auc: 0.880748\ttest's binary_logloss: 0.485043\ttest's auc: 0.834058\n",
      "[21]\ttrain's binary_logloss: 0.439706\ttrain's auc: 0.881491\ttest's binary_logloss: 0.483903\ttest's auc: 0.833765\n",
      "[22]\ttrain's binary_logloss: 0.437253\ttrain's auc: 0.88193\ttest's binary_logloss: 0.482177\ttest's auc: 0.83407\n",
      "[23]\ttrain's binary_logloss: 0.434398\ttrain's auc: 0.882418\ttest's binary_logloss: 0.480815\ttest's auc: 0.834284\n",
      "[24]\ttrain's binary_logloss: 0.43193\ttrain's auc: 0.883549\ttest's binary_logloss: 0.479776\ttest's auc: 0.834618\n",
      "[25]\ttrain's binary_logloss: 0.428975\ttrain's auc: 0.885955\ttest's binary_logloss: 0.478151\ttest's auc: 0.834746\n",
      "[26]\ttrain's binary_logloss: 0.426239\ttrain's auc: 0.88589\ttest's binary_logloss: 0.476932\ttest's auc: 0.834862\n",
      "[27]\ttrain's binary_logloss: 0.42375\ttrain's auc: 0.886955\ttest's binary_logloss: 0.476004\ttest's auc: 0.835156\n",
      "[28]\ttrain's binary_logloss: 0.421823\ttrain's auc: 0.887683\ttest's binary_logloss: 0.47536\ttest's auc: 0.835246\n",
      "[29]\ttrain's binary_logloss: 0.420197\ttrain's auc: 0.888069\ttest's binary_logloss: 0.474567\ttest's auc: 0.835511\n",
      "[30]\ttrain's binary_logloss: 0.417926\ttrain's auc: 0.888992\ttest's binary_logloss: 0.473293\ttest's auc: 0.836426\n",
      "[31]\ttrain's binary_logloss: 0.416103\ttrain's auc: 0.889577\ttest's binary_logloss: 0.472358\ttest's auc: 0.837114\n",
      "[32]\ttrain's binary_logloss: 0.414421\ttrain's auc: 0.890123\ttest's binary_logloss: 0.47251\ttest's auc: 0.836488\n",
      "[33]\ttrain's binary_logloss: 0.412743\ttrain's auc: 0.891109\ttest's binary_logloss: 0.471933\ttest's auc: 0.836977\n",
      "[34]\ttrain's binary_logloss: 0.411315\ttrain's auc: 0.892092\ttest's binary_logloss: 0.471281\ttest's auc: 0.837439\n",
      "[35]\ttrain's binary_logloss: 0.410081\ttrain's auc: 0.892776\ttest's binary_logloss: 0.470983\ttest's auc: 0.837211\n",
      "[36]\ttrain's binary_logloss: 0.408714\ttrain's auc: 0.893108\ttest's binary_logloss: 0.471282\ttest's auc: 0.83689\n",
      "[37]\ttrain's binary_logloss: 0.407716\ttrain's auc: 0.893624\ttest's binary_logloss: 0.470841\ttest's auc: 0.836996\n",
      "[38]\ttrain's binary_logloss: 0.405705\ttrain's auc: 0.894054\ttest's binary_logloss: 0.470103\ttest's auc: 0.837354\n",
      "[39]\ttrain's binary_logloss: 0.404811\ttrain's auc: 0.894921\ttest's binary_logloss: 0.469911\ttest's auc: 0.83739\n",
      "[40]\ttrain's binary_logloss: 0.402932\ttrain's auc: 0.896213\ttest's binary_logloss: 0.468887\ttest's auc: 0.838114\n",
      "[41]\ttrain's binary_logloss: 0.401585\ttrain's auc: 0.896996\ttest's binary_logloss: 0.468597\ttest's auc: 0.838208\n",
      "[42]\ttrain's binary_logloss: 0.400821\ttrain's auc: 0.897308\ttest's binary_logloss: 0.468252\ttest's auc: 0.838349\n",
      "[43]\ttrain's binary_logloss: 0.399512\ttrain's auc: 0.898046\ttest's binary_logloss: 0.467745\ttest's auc: 0.838656\n",
      "[44]\ttrain's binary_logloss: 0.398849\ttrain's auc: 0.898269\ttest's binary_logloss: 0.467486\ttest's auc: 0.838773\n",
      "[45]\ttrain's binary_logloss: 0.397312\ttrain's auc: 0.898976\ttest's binary_logloss: 0.466682\ttest's auc: 0.839478\n",
      "[46]\ttrain's binary_logloss: 0.395718\ttrain's auc: 0.899436\ttest's binary_logloss: 0.466153\ttest's auc: 0.839864\n",
      "[47]\ttrain's binary_logloss: 0.394673\ttrain's auc: 0.899947\ttest's binary_logloss: 0.465856\ttest's auc: 0.839931\n",
      "[48]\ttrain's binary_logloss: 0.393169\ttrain's auc: 0.901162\ttest's binary_logloss: 0.465044\ttest's auc: 0.840599\n",
      "[49]\ttrain's binary_logloss: 0.392107\ttrain's auc: 0.901562\ttest's binary_logloss: 0.46507\ttest's auc: 0.840631\n",
      "[50]\ttrain's binary_logloss: 0.390618\ttrain's auc: 0.901896\ttest's binary_logloss: 0.464425\ttest's auc: 0.840914\n",
      "[51]\ttrain's binary_logloss: 0.390016\ttrain's auc: 0.902079\ttest's binary_logloss: 0.464371\ttest's auc: 0.840816\n",
      "[52]\ttrain's binary_logloss: 0.389178\ttrain's auc: 0.902575\ttest's binary_logloss: 0.464625\ttest's auc: 0.840568\n",
      "[53]\ttrain's binary_logloss: 0.388052\ttrain's auc: 0.902952\ttest's binary_logloss: 0.464192\ttest's auc: 0.840685\n",
      "[54]\ttrain's binary_logloss: 0.386651\ttrain's auc: 0.90381\ttest's binary_logloss: 0.463981\ttest's auc: 0.840831\n",
      "[55]\ttrain's binary_logloss: 0.38565\ttrain's auc: 0.904514\ttest's binary_logloss: 0.463945\ttest's auc: 0.840877\n",
      "[56]\ttrain's binary_logloss: 0.385156\ttrain's auc: 0.904706\ttest's binary_logloss: 0.463836\ttest's auc: 0.840929\n",
      "[57]\ttrain's binary_logloss: 0.384409\ttrain's auc: 0.905059\ttest's binary_logloss: 0.463907\ttest's auc: 0.840867\n",
      "[58]\ttrain's binary_logloss: 0.382956\ttrain's auc: 0.905852\ttest's binary_logloss: 0.463735\ttest's auc: 0.841117\n",
      "[59]\ttrain's binary_logloss: 0.382471\ttrain's auc: 0.906041\ttest's binary_logloss: 0.463738\ttest's auc: 0.84101\n",
      "[60]\ttrain's binary_logloss: 0.380975\ttrain's auc: 0.907035\ttest's binary_logloss: 0.463042\ttest's auc: 0.841404\n",
      "[61]\ttrain's binary_logloss: 0.379828\ttrain's auc: 0.907699\ttest's binary_logloss: 0.462631\ttest's auc: 0.841685\n",
      "[62]\ttrain's binary_logloss: 0.37889\ttrain's auc: 0.908087\ttest's binary_logloss: 0.462224\ttest's auc: 0.842012\n",
      "[63]\ttrain's binary_logloss: 0.377662\ttrain's auc: 0.90849\ttest's binary_logloss: 0.461693\ttest's auc: 0.842372\n",
      "[64]\ttrain's binary_logloss: 0.376757\ttrain's auc: 0.908829\ttest's binary_logloss: 0.461491\ttest's auc: 0.842625\n",
      "[65]\ttrain's binary_logloss: 0.375979\ttrain's auc: 0.909467\ttest's binary_logloss: 0.461661\ttest's auc: 0.84248\n",
      "[66]\ttrain's binary_logloss: 0.375566\ttrain's auc: 0.909661\ttest's binary_logloss: 0.461707\ttest's auc: 0.842361\n",
      "[67]\ttrain's binary_logloss: 0.373899\ttrain's auc: 0.910828\ttest's binary_logloss: 0.461407\ttest's auc: 0.842702\n",
      "[68]\ttrain's binary_logloss: 0.373085\ttrain's auc: 0.911137\ttest's binary_logloss: 0.461105\ttest's auc: 0.842972\n",
      "[69]\ttrain's binary_logloss: 0.372269\ttrain's auc: 0.911576\ttest's binary_logloss: 0.461213\ttest's auc: 0.842774\n",
      "[70]\ttrain's binary_logloss: 0.371735\ttrain's auc: 0.911798\ttest's binary_logloss: 0.461176\ttest's auc: 0.842824\n",
      "[71]\ttrain's binary_logloss: 0.370538\ttrain's auc: 0.912399\ttest's binary_logloss: 0.460931\ttest's auc: 0.843054\n",
      "[72]\ttrain's binary_logloss: 0.369426\ttrain's auc: 0.912674\ttest's binary_logloss: 0.46092\ttest's auc: 0.843243\n",
      "[73]\ttrain's binary_logloss: 0.368656\ttrain's auc: 0.91308\ttest's binary_logloss: 0.461007\ttest's auc: 0.843265\n",
      "[74]\ttrain's binary_logloss: 0.368287\ttrain's auc: 0.913178\ttest's binary_logloss: 0.460988\ttest's auc: 0.843274\n",
      "[75]\ttrain's binary_logloss: 0.366909\ttrain's auc: 0.914036\ttest's binary_logloss: 0.460878\ttest's auc: 0.843437\n",
      "[76]\ttrain's binary_logloss: 0.366568\ttrain's auc: 0.914275\ttest's binary_logloss: 0.46096\ttest's auc: 0.843355\n",
      "[77]\ttrain's binary_logloss: 0.36594\ttrain's auc: 0.914731\ttest's binary_logloss: 0.461381\ttest's auc: 0.843092\n",
      "[78]\ttrain's binary_logloss: 0.36493\ttrain's auc: 0.915434\ttest's binary_logloss: 0.461262\ttest's auc: 0.843332\n",
      "[79]\ttrain's binary_logloss: 0.36403\ttrain's auc: 0.915757\ttest's binary_logloss: 0.461574\ttest's auc: 0.84327\n",
      "[80]\ttrain's binary_logloss: 0.363053\ttrain's auc: 0.916152\ttest's binary_logloss: 0.461091\ttest's auc: 0.843488\n",
      "[81]\ttrain's binary_logloss: 0.362155\ttrain's auc: 0.916789\ttest's binary_logloss: 0.460983\ttest's auc: 0.843592\n",
      "[82]\ttrain's binary_logloss: 0.361724\ttrain's auc: 0.917028\ttest's binary_logloss: 0.460948\ttest's auc: 0.84362\n",
      "[83]\ttrain's binary_logloss: 0.36061\ttrain's auc: 0.917627\ttest's binary_logloss: 0.460768\ttest's auc: 0.843796\n",
      "[84]\ttrain's binary_logloss: 0.359756\ttrain's auc: 0.917999\ttest's binary_logloss: 0.460625\ttest's auc: 0.843906\n",
      "[85]\ttrain's binary_logloss: 0.359066\ttrain's auc: 0.918241\ttest's binary_logloss: 0.460358\ttest's auc: 0.844205\n",
      "[86]\ttrain's binary_logloss: 0.358626\ttrain's auc: 0.918393\ttest's binary_logloss: 0.460322\ttest's auc: 0.844332\n",
      "[87]\ttrain's binary_logloss: 0.357114\ttrain's auc: 0.919199\ttest's binary_logloss: 0.460389\ttest's auc: 0.84437\n",
      "[88]\ttrain's binary_logloss: 0.35633\ttrain's auc: 0.919407\ttest's binary_logloss: 0.460461\ttest's auc: 0.844175\n",
      "[89]\ttrain's binary_logloss: 0.355421\ttrain's auc: 0.91997\ttest's binary_logloss: 0.460611\ttest's auc: 0.844085\n",
      "[90]\ttrain's binary_logloss: 0.355119\ttrain's auc: 0.920081\ttest's binary_logloss: 0.460725\ttest's auc: 0.844029\n",
      "[91]\ttrain's binary_logloss: 0.354015\ttrain's auc: 0.92048\ttest's binary_logloss: 0.460956\ttest's auc: 0.84405\n",
      "[92]\ttrain's binary_logloss: 0.353362\ttrain's auc: 0.921068\ttest's binary_logloss: 0.461062\ttest's auc: 0.844047\n",
      "[93]\ttrain's binary_logloss: 0.352541\ttrain's auc: 0.921563\ttest's binary_logloss: 0.461076\ttest's auc: 0.844047\n",
      "[94]\ttrain's binary_logloss: 0.352179\ttrain's auc: 0.921681\ttest's binary_logloss: 0.461069\ttest's auc: 0.844019\n",
      "[95]\ttrain's binary_logloss: 0.350949\ttrain's auc: 0.922677\ttest's binary_logloss: 0.461283\ttest's auc: 0.843806\n",
      "[96]\ttrain's binary_logloss: 0.350243\ttrain's auc: 0.923021\ttest's binary_logloss: 0.461467\ttest's auc: 0.8437\n"
     ]
    },
    {
     "name": "stdout",
     "output_type": "stream",
     "text": [
      "[97]\ttrain's binary_logloss: 0.349509\ttrain's auc: 0.923246\ttest's binary_logloss: 0.461886\ttest's auc: 0.84362\n",
      "[98]\ttrain's binary_logloss: 0.348672\ttrain's auc: 0.923761\ttest's binary_logloss: 0.461922\ttest's auc: 0.843682\n",
      "[99]\ttrain's binary_logloss: 0.347433\ttrain's auc: 0.924638\ttest's binary_logloss: 0.462096\ttest's auc: 0.843601\n",
      "[100]\ttrain's binary_logloss: 0.346645\ttrain's auc: 0.925194\ttest's binary_logloss: 0.46235\ttest's auc: 0.843423\n"
     ]
    },
    {
     "data": {
      "text/plain": [
       "LGBMClassifier(boosting_type='gbdt', class_weight=None, colsample_bytree=1.0,\n",
       "        learning_rate=0.1, max_depth=3, min_child_samples=20,\n",
       "        min_child_weight=0.001, min_split_gain=0.0, n_estimators=100,\n",
       "        n_jobs=-1, num_leaves=5, objective='binary', random_state=45,\n",
       "        reg_alpha=0.0, reg_lambda=0.0, silent=True, subsample=1.0,\n",
       "        subsample_for_bin=200000, subsample_freq=0)"
      ]
     },
     "execution_count": 24,
     "metadata": {},
     "output_type": "execute_result"
    }
   ],
   "source": [
    "# training and test data split\n",
    "from sklearn.model_selection import train_test_split\n",
    "\n",
    "X_train, X_test, y_train, y_test = \\\n",
    "    train_test_split(X, y, train_size=0.3, random_state=12, stratify=y )\n",
    "    \n",
    "# define classifier\n",
    "from lightgbm import LGBMClassifier\n",
    "\n",
    "clf = LGBMClassifier(\n",
    "    boosting_type='gbdt', # 'dart', 'goss', 'fr'\n",
    "    num_leaves=5,\n",
    "    max_depth=3,\n",
    "    learning_rate=0.1,\n",
    "    n_estimators=100,\n",
    "    objective='binary', # 'multiclass'\n",
    "    subsample=1.,\n",
    "    min_child_samples=20,\n",
    "    colsample_bytree=1.,\n",
    "    reg_alpha=0.,\n",
    "    reg_lambda=0.,\n",
    "    random_state=45\n",
    ")\n",
    "\n",
    "# fit and observe\n",
    "clf.fit(X_train, y_train,\n",
    "    eval_set=[(X_train,y_train),(X_test,y_test)],\n",
    "    eval_metric=['auc', 'binary_logloss'],\n",
    "    eval_names=['train', 'test'],\n",
    "    verbose=True,\n",
    "    feature_name='auto',\n",
    "    categorical_feature=['Sex']\n",
    ")"
   ]
  },
  {
   "cell_type": "markdown",
   "metadata": {},
   "source": [
    "# Analyze results"
   ]
  },
  {
   "cell_type": "code",
   "execution_count": 26,
   "metadata": {},
   "outputs": [
    {
     "data": {
      "text/plain": [
       "Text(0.5,1,'Feature Importance')"
      ]
     },
     "execution_count": 26,
     "metadata": {},
     "output_type": "execute_result"
    },
    {
     "data": {
      "image/png": "[encoded data removed]",
      "text/plain": [
       "<Figure size 720x360 with 1 Axes>"
      ]
     },
     "metadata": {},
     "output_type": "display_data"
    }
   ],
   "source": [
    "plt.close()\n",
    "\n",
    "fig, ax  = plt.subplots(figsize=(10,5))\n",
    "\n",
    "sns.barplot(y=X.columns.tolist(),\n",
    "            x=clf.feature_importances_,\n",
    "            orient=\"h\",\n",
    "            ax=ax\n",
    "           )\n",
    "\n",
    "ax.set_title('Feature Importance', fontsize=15)"
   ]
  },
  {
   "cell_type": "code",
   "execution_count": 27,
   "metadata": {},
   "outputs": [
    {
     "data": {
      "text/plain": [
       "<matplotlib.legend.Legend at 0x7f99f82c3d30>"
      ]
     },
     "execution_count": 27,
     "metadata": {},
     "output_type": "execute_result"
    },
    {
     "data": {
      "image/png": "[encoded data removed]",
      "text/plain": [
       "<Figure size 1080x360 with 2 Axes>"
      ]
     },
     "metadata": {},
     "output_type": "display_data"
    }
   ],
   "source": [
    "plt.close()\n",
    "\n",
    "fig, ax = plt.subplots(figsize=(15,5), nrows=1, ncols=2)\n",
    "\n",
    "ax[0].plot(clf.evals_result_['train']['binary_logloss'], label='train')\n",
    "ax[0].plot(clf.evals_result_['test']['binary_logloss'], label='test')\n",
    "ax[0].set_title('LogLos', fontsize=15)\n",
    "ax[0].legend()\n",
    "\n",
    "ax[1].plot(clf.evals_result_['train']['auc'], label='train')\n",
    "ax[1].plot(clf.evals_result_['test']['auc'], label='test')\n",
    "ax[1].set_title('AUC', fontsize=15)\n",
    "ax[1].legend()"
   ]
  },
  {
   "cell_type": "code",
   "execution_count": 25,
   "metadata": {},
   "outputs": [
    {
     "data": {
      "image/svg+xml": [
       "<?xml version=\"1.0\" encoding=\"UTF-8\" standalone=\"no\"?>\n",
       "<!DOCTYPE svg PUBLIC \"-//W3C//DTD SVG 1.1//EN\"\n",
       " \"http://www.w3.org/Graphics/SVG/1.1/DTD/svg11.dtd\">\n",
       "<!-- Generated by graphviz version 2.38.0 (20140413.2041)\n",
       " -->\n",
       "<!-- Title: %3 Pages: 1 -->\n",
       "<svg width=\"1246pt\" height=\"376pt\"\n",
       " viewBox=\"0.00 0.00 1246.16 375.96\" xmlns=\"http://www.w3.org/2000/svg\" xmlns:xlink=\"http://www.w3.org/1999/xlink\">\n",
       "<g id=\"graph0\" class=\"graph\" transform=\"scale(1 1) rotate(0) translate(4 371.96)\">\n",
       "<title>%3</title>\n",
       "<polygon fill=\"white\" stroke=\"none\" points=\"-4,4 -4,-371.96 1242.16,-371.96 1242.16,4 -4,4\"/>\n",
       "<!-- split0 -->\n",
       "<g id=\"node1\" class=\"node\"><title>split0</title>\n",
       "<ellipse fill=\"none\" stroke=\"black\" cx=\"659.492\" cy=\"-341.09\" rx=\"141.343\" ry=\"26.7407\"/>\n",
       "<text text-anchor=\"middle\" x=\"659.492\" y=\"-344.89\" font-family=\"Times,serif\" font-size=\"14.00\">split_feature_name: Shell_weight</text>\n",
       "<text text-anchor=\"middle\" x=\"659.492\" y=\"-329.89\" font-family=\"Times,serif\" font-size=\"14.00\">threshold: 0.27425000000000005</text>\n",
       "</g>\n",
       "<!-- split1 -->\n",
       "<g id=\"node2\" class=\"node\"><title>split1</title>\n",
       "<ellipse fill=\"none\" stroke=\"black\" cx=\"467.492\" cy=\"-236.35\" rx=\"105.218\" ry=\"26.7407\"/>\n",
       "<text text-anchor=\"middle\" x=\"467.492\" y=\"-240.15\" font-family=\"Times,serif\" font-size=\"14.00\">split_feature_name: Sex</text>\n",
       "<text text-anchor=\"middle\" x=\"467.492\" y=\"-225.15\" font-family=\"Times,serif\" font-size=\"14.00\">threshold: 3</text>\n",
       "</g>\n",
       "<!-- split0&#45;&gt;split1 -->\n",
       "<g id=\"edge5\" class=\"edge\"><title>split0&#45;&gt;split1</title>\n",
       "<path fill=\"none\" stroke=\"black\" d=\"M613.504,-315.482C585.453,-300.472 549.499,-281.232 520.288,-265.602\"/>\n",
       "<polygon fill=\"black\" stroke=\"black\" points=\"521.924,-262.507 511.456,-260.875 518.621,-268.679 521.924,-262.507\"/>\n",
       "<text text-anchor=\"middle\" x=\"583.992\" y=\"-285.02\" font-family=\"Times,serif\" font-size=\"14.00\">&lt;=</text>\n",
       "</g>\n",
       "<!-- split2 -->\n",
       "<g id=\"node7\" class=\"node\"><title>split2</title>\n",
       "<ellipse fill=\"none\" stroke=\"black\" cx=\"783.492\" cy=\"-236.35\" rx=\"141.343\" ry=\"26.7407\"/>\n",
       "<text text-anchor=\"middle\" x=\"783.492\" y=\"-240.15\" font-family=\"Times,serif\" font-size=\"14.00\">split_feature_name: Shell_weight</text>\n",
       "<text text-anchor=\"middle\" x=\"783.492\" y=\"-225.15\" font-family=\"Times,serif\" font-size=\"14.00\">threshold: 0.39925000000000005</text>\n",
       "</g>\n",
       "<!-- split0&#45;&gt;split2 -->\n",
       "<g id=\"edge8\" class=\"edge\"><title>split0&#45;&gt;split2</title>\n",
       "<path fill=\"none\" stroke=\"black\" d=\"M690.144,-314.694C706.688,-300.987 727.272,-283.932 744.898,-269.327\"/>\n",
       "<polygon fill=\"black\" stroke=\"black\" points=\"747.296,-271.886 752.764,-262.811 742.83,-266.496 747.296,-271.886\"/>\n",
       "<text text-anchor=\"middle\" x=\"733.992\" y=\"-285.02\" font-family=\"Times,serif\" font-size=\"14.00\">&gt;</text>\n",
       "</g>\n",
       "<!-- leaf0 -->\n",
       "<g id=\"node3\" class=\"node\"><title>leaf0</title>\n",
       "<ellipse fill=\"none\" stroke=\"black\" cx=\"148.492\" cy=\"-131.61\" rx=\"148.485\" ry=\"26.7407\"/>\n",
       "<text text-anchor=\"middle\" x=\"148.492\" y=\"-135.41\" font-family=\"Times,serif\" font-size=\"14.00\">leaf_index: 0</text>\n",
       "<text text-anchor=\"middle\" x=\"148.492\" y=\"-120.41\" font-family=\"Times,serif\" font-size=\"14.00\">leaf_value: &#45;0.12083199366523462</text>\n",
       "</g>\n",
       "<!-- split1&#45;&gt;leaf0 -->\n",
       "<g id=\"edge1\" class=\"edge\"><title>split1&#45;&gt;leaf0</title>\n",
       "<path fill=\"none\" stroke=\"black\" d=\"M403.705,-214.806C353.363,-198.593 282.835,-175.878 228.675,-158.434\"/>\n",
       "<polygon fill=\"black\" stroke=\"black\" points=\"229.696,-155.086 219.104,-155.352 227.55,-161.749 229.696,-155.086\"/>\n",
       "<text text-anchor=\"middle\" x=\"332.492\" y=\"-180.28\" font-family=\"Times,serif\" font-size=\"14.00\">is</text>\n",
       "</g>\n",
       "<!-- split3 -->\n",
       "<g id=\"node4\" class=\"node\"><title>split3</title>\n",
       "<ellipse fill=\"none\" stroke=\"black\" cx=\"467.492\" cy=\"-131.61\" rx=\"152.056\" ry=\"26.7407\"/>\n",
       "<text text-anchor=\"middle\" x=\"467.492\" y=\"-135.41\" font-family=\"Times,serif\" font-size=\"14.00\">split_feature_name: Shicked_weight</text>\n",
       "<text text-anchor=\"middle\" x=\"467.492\" y=\"-120.41\" font-family=\"Times,serif\" font-size=\"14.00\">threshold: 0.36450000000000005</text>\n",
       "</g>\n",
       "<!-- split1&#45;&gt;split3 -->\n",
       "<g id=\"edge4\" class=\"edge\"><title>split1&#45;&gt;split3</title>\n",
       "<path fill=\"none\" stroke=\"black\" d=\"M467.492,-209.425C467.492,-197.135 467.492,-182.247 467.492,-168.862\"/>\n",
       "<polygon fill=\"black\" stroke=\"black\" points=\"470.993,-168.528 467.492,-158.528 463.993,-168.528 470.993,-168.528\"/>\n",
       "<text text-anchor=\"middle\" x=\"478.492\" y=\"-180.28\" font-family=\"Times,serif\" font-size=\"14.00\">isn&#39;t</text>\n",
       "</g>\n",
       "<!-- leaf2 -->\n",
       "<g id=\"node5\" class=\"node\"><title>leaf2</title>\n",
       "<ellipse fill=\"none\" stroke=\"black\" cx=\"311.492\" cy=\"-26.8701\" rx=\"145.828\" ry=\"26.7407\"/>\n",
       "<text text-anchor=\"middle\" x=\"311.492\" y=\"-30.6701\" font-family=\"Times,serif\" font-size=\"14.00\">leaf_index: 2</text>\n",
       "<text text-anchor=\"middle\" x=\"311.492\" y=\"-15.6701\" font-family=\"Times,serif\" font-size=\"14.00\">leaf_value: 0.01795386492736971</text>\n",
       "</g>\n",
       "<!-- split3&#45;&gt;leaf2 -->\n",
       "<g id=\"edge2\" class=\"edge\"><title>split3&#45;&gt;leaf2</title>\n",
       "<path fill=\"none\" stroke=\"black\" d=\"M429.331,-105.477C407.815,-91.3071 380.771,-73.4962 358.019,-58.5123\"/>\n",
       "<polygon fill=\"black\" stroke=\"black\" points=\"359.807,-55.4987 349.53,-52.9215 355.957,-61.3448 359.807,-55.4987\"/>\n",
       "<text text-anchor=\"middle\" x=\"407.992\" y=\"-75.5401\" font-family=\"Times,serif\" font-size=\"14.00\">&lt;=</text>\n",
       "</g>\n",
       "<!-- leaf4 -->\n",
       "<g id=\"node6\" class=\"node\"><title>leaf4</title>\n",
       "<ellipse fill=\"none\" stroke=\"black\" cx=\"623.492\" cy=\"-26.8701\" rx=\"148.485\" ry=\"26.7407\"/>\n",
       "<text text-anchor=\"middle\" x=\"623.492\" y=\"-30.6701\" font-family=\"Times,serif\" font-size=\"14.00\">leaf_index: 4</text>\n",
       "<text text-anchor=\"middle\" x=\"623.492\" y=\"-15.6701\" font-family=\"Times,serif\" font-size=\"14.00\">leaf_value: &#45;0.12575528141584147</text>\n",
       "</g>\n",
       "<!-- split3&#45;&gt;leaf4 -->\n",
       "<g id=\"edge3\" class=\"edge\"><title>split3&#45;&gt;leaf4</title>\n",
       "<path fill=\"none\" stroke=\"black\" d=\"M505.654,-105.477C527.17,-91.3071 554.214,-73.4962 576.965,-58.5123\"/>\n",
       "<polygon fill=\"black\" stroke=\"black\" points=\"579.028,-61.3448 585.454,-52.9215 575.178,-55.4987 579.028,-61.3448\"/>\n",
       "<text text-anchor=\"middle\" x=\"559.992\" y=\"-75.5401\" font-family=\"Times,serif\" font-size=\"14.00\">&gt;</text>\n",
       "</g>\n",
       "<!-- leaf1 -->\n",
       "<g id=\"node8\" class=\"node\"><title>leaf1</title>\n",
       "<ellipse fill=\"none\" stroke=\"black\" cx=\"783.492\" cy=\"-131.61\" rx=\"145.828\" ry=\"26.7407\"/>\n",
       "<text text-anchor=\"middle\" x=\"783.492\" y=\"-135.41\" font-family=\"Times,serif\" font-size=\"14.00\">leaf_index: 1</text>\n",
       "<text text-anchor=\"middle\" x=\"783.492\" y=\"-120.41\" font-family=\"Times,serif\" font-size=\"14.00\">leaf_value: 0.05639763164513676</text>\n",
       "</g>\n",
       "<!-- split2&#45;&gt;leaf1 -->\n",
       "<g id=\"edge6\" class=\"edge\"><title>split2&#45;&gt;leaf1</title>\n",
       "<path fill=\"none\" stroke=\"black\" d=\"M783.492,-209.425C783.492,-197.135 783.492,-182.247 783.492,-168.862\"/>\n",
       "<polygon fill=\"black\" stroke=\"black\" points=\"786.993,-168.528 783.492,-158.528 779.993,-168.528 786.993,-168.528\"/>\n",
       "<text text-anchor=\"middle\" x=\"791.992\" y=\"-180.28\" font-family=\"Times,serif\" font-size=\"14.00\">&lt;=</text>\n",
       "</g>\n",
       "<!-- leaf3 -->\n",
       "<g id=\"node9\" class=\"node\"><title>leaf3</title>\n",
       "<ellipse fill=\"none\" stroke=\"black\" cx=\"1092.49\" cy=\"-131.61\" rx=\"145.828\" ry=\"26.7407\"/>\n",
       "<text text-anchor=\"middle\" x=\"1092.49\" y=\"-135.41\" font-family=\"Times,serif\" font-size=\"14.00\">leaf_index: 3</text>\n",
       "<text text-anchor=\"middle\" x=\"1092.49\" y=\"-120.41\" font-family=\"Times,serif\" font-size=\"14.00\">leaf_value: 0.17836570931682502</text>\n",
       "</g>\n",
       "<!-- split2&#45;&gt;leaf3 -->\n",
       "<g id=\"edge7\" class=\"edge\"><title>split2&#45;&gt;leaf3</title>\n",
       "<path fill=\"none\" stroke=\"black\" d=\"M851.686,-212.676C899.773,-196.688 964.283,-175.239 1014.43,-158.565\"/>\n",
       "<polygon fill=\"black\" stroke=\"black\" points=\"1015.55,-161.88 1023.94,-155.404 1013.35,-155.237 1015.55,-161.88\"/>\n",
       "<text text-anchor=\"middle\" x=\"961.992\" y=\"-180.28\" font-family=\"Times,serif\" font-size=\"14.00\">&gt;</text>\n",
       "</g>\n",
       "</g>\n",
       "</svg>\n"
      ],
      "text/plain": [
       "<graphviz.dot.Digraph at 0x7f99f833cc18>"
      ]
     },
     "execution_count": 25,
     "metadata": {},
     "output_type": "execute_result"
    }
   ],
   "source": [
    "from lightgbm import create_tree_digraph, plot_tree\n",
    "\n",
    "create_tree_digraph(clf,\n",
    "    tree_index=1\n",
    ")"
   ]
  },
  {
   "cell_type": "code",
   "execution_count": null,
   "metadata": {},
   "outputs": [],
   "source": []
  }
 ],
 "metadata": {
  "kernelspec": {
   "display_name": "Python 3",
   "language": "python",
   "name": "python3"
  },
  "language_info": {
   "codemirror_mode": {
    "name": "ipython",
    "version": 3
   },
   "file_extension": ".py",
   "mimetype": "text/x-python",
   "name": "python",
   "nbconvert_exporter": "python",
   "pygments_lexer": "ipython3",
   "version": "3.6.3"
  },
  "latex_envs": {
   "LaTeX_envs_menu_present": true,
   "autoclose": false,
   "autocomplete": true,
   "bibliofile": "biblio.bib",
   "cite_by": "apalike",
   "current_citInitial": 1,
   "eqLabelWithNumbers": true,
   "eqNumInitial": 1,
   "hotkeys": {
    "equation": "Ctrl-E",
    "itemize": "Ctrl-I"
   },
   "labels_anchors": false,
   "latex_user_defs": false,
   "report_style_numbering": false,
   "user_envs_cfg": false
  }
 },
 "nbformat": 4,
 "nbformat_minor": 2
}
